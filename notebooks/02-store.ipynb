{
 "cells": [
  {
   "cell_type": "code",
   "execution_count": 2,
   "id": "b63a8ae7",
   "metadata": {},
   "outputs": [
    {
     "name": "stdout",
     "output_type": "stream",
     "text": [
      "               start_date  abandon  prequeue  inqueue  agent_time  postqueue  \\\n",
      "0     2019-05-01 22:07:00        1         6      138           0          0   \n",
      "1     2019-05-31 10:02:00        0         5       53           8          0   \n",
      "2     2019-05-04 16:10:00        0         9        4          27          0   \n",
      "3     2019-05-24 13:31:00        0         5       20          28          0   \n",
      "4     2019-05-19 17:24:00        1         0        0           0          0   \n",
      "...                   ...      ...       ...      ...         ...        ...   \n",
      "39548 2019-05-11 10:07:00        0         6       49          73          0   \n",
      "39549 2019-05-12 10:27:00        0         6      137          56          0   \n",
      "39550 2019-05-09 16:19:00        0         6       11         132          0   \n",
      "39551 2019-05-10 08:56:00        0         6      224           2          0   \n",
      "39552 2019-05-24 19:18:00        0        12        0         152          0   \n",
      "\n",
      "       total_time   sla    contact_id     master_id  ...  cont_name  \\\n",
      "0               0  <NA>  03143815fac5  22143815fac5  ...       Joel   \n",
      "1              66     1  031438155b05  221438155b05  ...   Marianne   \n",
      "2              40     1  031438156173  221438156173  ...       Lara   \n",
      "3              53     1  031438156d96  221438156d96  ...  Alejandro   \n",
      "4               0  <NA>  03143815f801  22143815f801  ...     Kornel   \n",
      "...           ...   ...           ...           ...  ...        ...   \n",
      "39548         128     1  031438150f5d  221438150f5d  ...      Chlóe   \n",
      "39549         199     1  031438157cd4  221438157cd4  ...    Timothy   \n",
      "39550         149     1  03143815610c  22143815610c  ...     Hertha   \n",
      "39551         232     1  0314381594e5  2214381594e5  ...      Kyara   \n",
      "39552         164     1  031438150ffc  221438150ffc  ...    Ignacio   \n",
      "\n",
      "      cont_last_name                   cont_email     cont_phone  \\\n",
      "0             Stucki          kmaurer@example.net  1423893722143   \n",
      "1             Bonvin           lmayor@example.net  7965739922711   \n",
      "2         Scarfoglio    jolandagolino@example.org  8755804349956   \n",
      "3              Meier      rschumacher@example.net  6341419770108   \n",
      "4          Miszkurka     koczaraeliza@example.org   772054237811   \n",
      "...              ...                          ...            ...   \n",
      "39548         Pinedo            pgoni@example.net  6918985243143   \n",
      "39549         Patton  andersonvincent@example.org  3535817310045   \n",
      "39550        Hettner         raissa48@example.com  7776757065146   \n",
      "39551          Pinho        gabriel65@example.com  8005573511111   \n",
      "39552         Alemán    mendozaelvira@example.org  3802437841232   \n",
      "\n",
      "          cmpg_name sent_name chan_type   chan_name chan_priority  \\\n",
      "0       Deliverando   failure     voice  call inbox             1   \n",
      "1        Billings B   failure     voice  call inbox             1   \n",
      "2        Billings E   failure     voice  call inbox             1   \n",
      "3        Billings E   failure     voice  call inbox             1   \n",
      "4      Sales Army V   failure     voice  call inbox             1   \n",
      "...             ...       ...       ...         ...           ...   \n",
      "39548   Deliverando     anger     voice        call             5   \n",
      "39549   Deliverando     anger     voice        call             5   \n",
      "39550    Billings A     anger     voice        call             5   \n",
      "39551    Billings E     anger     voice        call             5   \n",
      "39552    Billings F     anger     voice        call             5   \n",
      "\n",
      "                  rsn_name  \n",
      "0          billing payment  \n",
      "1          billing payment  \n",
      "2          billing payment  \n",
      "3          billing payment  \n",
      "4          billing payment  \n",
      "...                    ...  \n",
      "39548  product information  \n",
      "39549  product information  \n",
      "39550  product information  \n",
      "39551  product information  \n",
      "39552  product information  \n",
      "\n",
      "[39553 rows x 42 columns]\n",
      "               start_date  abandon  prequeue  inqueue  agent_time  postqueue  \\\n",
      "0     2019-03-01 00:14:00        1        15        0           0          0   \n",
      "1     2019-03-10 07:55:00        0         6      160         290          0   \n",
      "2     2019-03-23 09:15:00        0         5      176          65          0   \n",
      "3     2019-03-11 10:22:00        0         6      408         473          0   \n",
      "4     2019-03-15 15:38:00        0         6       85           2          0   \n",
      "...                   ...      ...       ...      ...         ...        ...   \n",
      "38796 2019-03-11 15:47:00        1        10       72           0          0   \n",
      "38797 2019-03-18 16:54:00        1        10      432           0          0   \n",
      "38798 2019-03-12 09:04:00        1         6       14           0          0   \n",
      "38799 2019-03-28 09:07:00        1         5       22           0          0   \n",
      "38800 2019-03-03 10:54:00        1         6       11           0          0   \n",
      "\n",
      "       total_time   sla    contact_id     master_id  ...   cont_name  \\\n",
      "0               0  <NA>  03143809301c  22143809301c  ...      Mathew   \n",
      "1             456     1  03143809d4c0  22143809d4c0  ...    Michaela   \n",
      "2             246     1  031438094ec3  221438094ec3  ...        Dawn   \n",
      "3             887     1  03143809f051  22143809f051  ...  Ana Sophia   \n",
      "4              93     1  03143809cff2  22143809cff2  ...      Benito   \n",
      "...           ...   ...           ...           ...  ...         ...   \n",
      "38796           0  <NA>  0314380978d3  2214380978d3  ...     Rubiela   \n",
      "38797           0  <NA>  03143809d8d5  22143809d8d5  ...       Lucas   \n",
      "38798           0  <NA>  031438095584  221438095584  ...     Margaud   \n",
      "38799           0  <NA>  03143809abde  22143809abde  ...      Bianca   \n",
      "38800           0  <NA>  031438094a74  221438094a74  ...       Linda   \n",
      "\n",
      "      cont_last_name                   cont_email     cont_phone  \\\n",
      "0              Lopez       kimberly64@example.net  7421253394307   \n",
      "1              Varga          escherr@example.net  7965813017863   \n",
      "2              Moore    robertsellers@example.org  6866533138909   \n",
      "3            Moreira        eduarda87@example.net  5581992987490   \n",
      "4             Campos   carvajalaurora@example.org  4265300965306   \n",
      "...              ...                          ...            ...   \n",
      "38796      Cifuentes        ngonzalez@example.org  5696687789755   \n",
      "38797    Burgstaller  roesslerjuliane@example.com  8347115463126   \n",
      "38798      Letellier         maggie85@example.com  3818238300073   \n",
      "38799       da Rocha        ida-cunha@example.net  5521936282237   \n",
      "38800        Estrada         ccarroll@example.net  7705754304057   \n",
      "\n",
      "               cmpg_name    sent_name chan_type  chan_name chan_priority  \\\n",
      "0             Billings E     serenity     video  live chat             1   \n",
      "1             Billings C     serenity     video  live chat             1   \n",
      "2             Billings E     serenity     video  live chat             1   \n",
      "3             Billings F     serenity     video  live chat             1   \n",
      "4      Recruit FactorIII     serenity     video  live chat             1   \n",
      "...                  ...          ...       ...        ...           ...   \n",
      "38796        Deliverando  frustration     video    youtube             3   \n",
      "38797  Recruit Factor VI  frustration     video    youtube             3   \n",
      "38798         Billings C  frustration     video    youtube             3   \n",
      "38799         Billings F  frustration     video    youtube             3   \n",
      "38800       Geeky Prime   frustration     video    youtube             3   \n",
      "\n",
      "             rsn_name  \n",
      "0      service outage  \n",
      "1      service outage  \n",
      "2      service outage  \n",
      "3      service outage  \n",
      "4      service outage  \n",
      "...               ...  \n",
      "38796   account login  \n",
      "38797   account login  \n",
      "38798   account login  \n",
      "38799   account login  \n",
      "38800   account login  \n",
      "\n",
      "[38801 rows x 42 columns]\n"
     ]
    }
   ],
   "source": [
    "%run 01-transformer.ipynb"
   ]
  },
  {
   "cell_type": "code",
   "execution_count": 5,
   "id": "790109de",
   "metadata": {},
   "outputs": [],
   "source": [
    "def save_data(file, destination):\n",
    "    \"\"\"A method to save data in parquet format loaded with 'load_call_logs'\n",
    "            file: name of file to be loaded\n",
    "            destination: name of file in which data will be saved\"\"\"\n",
    "\n",
    "    load_call_logs(file).to_parquet(destination)"
   ]
  },
  {
   "cell_type": "code",
   "execution_count": 3,
   "id": "1a1527ce",
   "metadata": {},
   "outputs": [],
   "source": [
    "raw = '../data/raw/'\n",
    "processed = '../data/processed/'\n",
    "final = '../data/final/'"
   ]
  },
  {
   "cell_type": "code",
   "execution_count": 6,
   "id": "8bf1f6bf",
   "metadata": {},
   "outputs": [],
   "source": [
    "save_data(f'{raw}05-call_logs.txt',f'{processed}saved_05-call_logs.parquet')"
   ]
  },
  {
   "cell_type": "code",
   "execution_count": 7,
   "id": "e0b54716",
   "metadata": {},
   "outputs": [],
   "source": [
    "save_data(f'{raw}01-call_logs.json',f'{processed}saved_01-call_logs.parquet')"
   ]
  },
  {
   "cell_type": "code",
   "execution_count": 8,
   "id": "ea0f591e",
   "metadata": {},
   "outputs": [],
   "source": [
    "save_data(f'{raw}03-call_logs.parquet',f'{processed}saved_03-call_logs.parquet')"
   ]
  },
  {
   "cell_type": "code",
   "execution_count": 9,
   "id": "0e4c121f",
   "metadata": {},
   "outputs": [],
   "source": [
    "save_data(f'{raw}04-call_logs.xlsx',f'{processed}saved_04-call_logs.parquet')"
   ]
  },
  {
   "cell_type": "code",
   "execution_count": 10,
   "id": "313f4e65",
   "metadata": {},
   "outputs": [],
   "source": [
    "save_data(f'{raw}06-call_logs.csv',f'{processed}saved_06-call_logs.parquet')"
   ]
  }
 ],
 "metadata": {
  "kernelspec": {
   "display_name": "Python 3 (ipykernel)",
   "language": "python",
   "name": "python3"
  },
  "language_info": {
   "codemirror_mode": {
    "name": "ipython",
    "version": 3
   },
   "file_extension": ".py",
   "mimetype": "text/x-python",
   "name": "python",
   "nbconvert_exporter": "python",
   "pygments_lexer": "ipython3",
   "version": "3.8.13"
  }
 },
 "nbformat": 4,
 "nbformat_minor": 5
}
