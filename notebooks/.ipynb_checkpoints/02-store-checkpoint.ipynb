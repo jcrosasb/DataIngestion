{
 "cells": [
  {
   "cell_type": "code",
   "execution_count": 2,
   "id": "b63a8ae7",
   "metadata": {},
   "outputs": [],
   "source": [
    "%run 01-transformer.ipynb"
   ]
  },
  {
   "cell_type": "code",
   "execution_count": 4,
   "id": "8bf1f6bf",
   "metadata": {},
   "outputs": [],
   "source": [
    "load_call_logs('../data/raw/05-call_logs.txt').to_parquet('../data/processed/saved_05-call_logs.parquet')"
   ]
  },
  {
   "cell_type": "code",
   "execution_count": 6,
   "id": "ea0f591e",
   "metadata": {},
   "outputs": [],
   "source": [
    "load_call_logs('../data/raw/01-call_logs.json').to_parquet('../data/processed/saved_01-call_logs.parquet')"
   ]
  },
  {
   "cell_type": "code",
   "execution_count": 10,
   "id": "0e4c121f",
   "metadata": {},
   "outputs": [],
   "source": [
    "load_call_logs('../data/raw/03-call_logs.parquet').to_parquet('../data/processed/saved_03-call_logs.parquet')"
   ]
  },
  {
   "cell_type": "code",
   "execution_count": 11,
   "id": "313f4e65",
   "metadata": {},
   "outputs": [],
   "source": [
    "load_call_logs('../data/raw/04-call_logs.xlsx').to_parquet('../data/processed/saved_04-call_logs.parquet')"
   ]
  },
  {
   "cell_type": "code",
   "execution_count": 12,
   "id": "bb256bb0",
   "metadata": {},
   "outputs": [],
   "source": [
    "load_call_logs('../data/raw/06-call_logs.csv').to_parquet('../data/processed/saved_06-call_logs.parquet')"
   ]
  },
  {
   "cell_type": "code",
   "execution_count": null,
   "id": "e279a28e",
   "metadata": {},
   "outputs": [],
   "source": []
  }
 ],
 "metadata": {
  "kernelspec": {
   "display_name": "Python 3 (ipykernel)",
   "language": "python",
   "name": "python3"
  },
  "language_info": {
   "codemirror_mode": {
    "name": "ipython",
    "version": 3
   },
   "file_extension": ".py",
   "mimetype": "text/x-python",
   "name": "python",
   "nbconvert_exporter": "python",
   "pygments_lexer": "ipython3",
   "version": "3.8.13"
  }
 },
 "nbformat": 4,
 "nbformat_minor": 5
}
